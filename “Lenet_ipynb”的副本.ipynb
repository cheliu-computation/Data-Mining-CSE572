{
  "nbformat": 4,
  "nbformat_minor": 0,
  "metadata": {
    "colab": {
      "name": "“Lenet.ipynb”的副本",
      "provenance": [],
      "collapsed_sections": [],
      "machine_shape": "hm",
      "mount_file_id": "1u2izqc3td1f39tj6M1VktUr8gbturtMa",
      "authorship_tag": "ABX9TyPATKOZ8epZXwnKKZU2kbsr",
      "include_colab_link": true
    },
    "kernelspec": {
      "name": "python3",
      "display_name": "Python 3"
    },
    "language_info": {
      "name": "python"
    },
    "accelerator": "TPU",
    "widgets": {
      "application/vnd.jupyter.widget-state+json": {
        "bccff04cbb114fb9b4b843ee1b164273": {
          "model_module": "@jupyter-widgets/controls",
          "model_name": "HBoxModel",
          "model_module_version": "1.5.0",
          "state": {
            "_view_name": "HBoxView",
            "_dom_classes": [],
            "_model_name": "HBoxModel",
            "_view_module": "@jupyter-widgets/controls",
            "_model_module_version": "1.5.0",
            "_view_count": null,
            "_view_module_version": "1.5.0",
            "box_style": "",
            "layout": "IPY_MODEL_32492832ccd049778d27209976216a78",
            "_model_module": "@jupyter-widgets/controls",
            "children": [
              "IPY_MODEL_c4d0ad14278f43259a6acb46ac27c09e",
              "IPY_MODEL_6fe4cba4fd394d69b5eb059ef46bab08",
              "IPY_MODEL_91dc14749ea04c26b52ff287236c8341"
            ]
          }
        },
        "32492832ccd049778d27209976216a78": {
          "model_module": "@jupyter-widgets/base",
          "model_name": "LayoutModel",
          "model_module_version": "1.2.0",
          "state": {
            "_view_name": "LayoutView",
            "grid_template_rows": null,
            "right": null,
            "justify_content": null,
            "_view_module": "@jupyter-widgets/base",
            "overflow": null,
            "_model_module_version": "1.2.0",
            "_view_count": null,
            "flex_flow": null,
            "width": null,
            "min_width": null,
            "border": null,
            "align_items": null,
            "bottom": null,
            "_model_module": "@jupyter-widgets/base",
            "top": null,
            "grid_column": null,
            "overflow_y": null,
            "overflow_x": null,
            "grid_auto_flow": null,
            "grid_area": null,
            "grid_template_columns": null,
            "flex": null,
            "_model_name": "LayoutModel",
            "justify_items": null,
            "grid_row": null,
            "max_height": null,
            "align_content": null,
            "visibility": null,
            "align_self": null,
            "height": null,
            "min_height": null,
            "padding": null,
            "grid_auto_rows": null,
            "grid_gap": null,
            "max_width": null,
            "order": null,
            "_view_module_version": "1.2.0",
            "grid_template_areas": null,
            "object_position": null,
            "object_fit": null,
            "grid_auto_columns": null,
            "margin": null,
            "display": null,
            "left": null
          }
        },
        "c4d0ad14278f43259a6acb46ac27c09e": {
          "model_module": "@jupyter-widgets/controls",
          "model_name": "HTMLModel",
          "model_module_version": "1.5.0",
          "state": {
            "_view_name": "HTMLView",
            "style": "IPY_MODEL_3dbeecf1c2444f2bbf948921ffbc10e6",
            "_dom_classes": [],
            "description": "",
            "_model_name": "HTMLModel",
            "placeholder": "​",
            "_view_module": "@jupyter-widgets/controls",
            "_model_module_version": "1.5.0",
            "value": "  0%",
            "_view_count": null,
            "_view_module_version": "1.5.0",
            "description_tooltip": null,
            "_model_module": "@jupyter-widgets/controls",
            "layout": "IPY_MODEL_6ad9a4c38ff84ae4bc724a01decaaa55"
          }
        },
        "6fe4cba4fd394d69b5eb059ef46bab08": {
          "model_module": "@jupyter-widgets/controls",
          "model_name": "FloatProgressModel",
          "model_module_version": "1.5.0",
          "state": {
            "_view_name": "ProgressView",
            "style": "IPY_MODEL_1f806cd981b840f1aaa327826d9f778a",
            "_dom_classes": [],
            "description": "",
            "_model_name": "FloatProgressModel",
            "bar_style": "",
            "max": 20,
            "_view_module": "@jupyter-widgets/controls",
            "_model_module_version": "1.5.0",
            "value": 0,
            "_view_count": null,
            "_view_module_version": "1.5.0",
            "orientation": "horizontal",
            "min": 0,
            "description_tooltip": null,
            "_model_module": "@jupyter-widgets/controls",
            "layout": "IPY_MODEL_ac84ee2646864245a3b3a4c2607a008e"
          }
        },
        "91dc14749ea04c26b52ff287236c8341": {
          "model_module": "@jupyter-widgets/controls",
          "model_name": "HTMLModel",
          "model_module_version": "1.5.0",
          "state": {
            "_view_name": "HTMLView",
            "style": "IPY_MODEL_4250b21d682d41b1817e1d5c3f0ec23a",
            "_dom_classes": [],
            "description": "",
            "_model_name": "HTMLModel",
            "placeholder": "​",
            "_view_module": "@jupyter-widgets/controls",
            "_model_module_version": "1.5.0",
            "value": " 0/20 [00:00&lt;?, ?it/s]",
            "_view_count": null,
            "_view_module_version": "1.5.0",
            "description_tooltip": null,
            "_model_module": "@jupyter-widgets/controls",
            "layout": "IPY_MODEL_67738ec189874cb581e4d8c43ec1a808"
          }
        },
        "3dbeecf1c2444f2bbf948921ffbc10e6": {
          "model_module": "@jupyter-widgets/controls",
          "model_name": "DescriptionStyleModel",
          "model_module_version": "1.5.0",
          "state": {
            "_view_name": "StyleView",
            "_model_name": "DescriptionStyleModel",
            "description_width": "",
            "_view_module": "@jupyter-widgets/base",
            "_model_module_version": "1.5.0",
            "_view_count": null,
            "_view_module_version": "1.2.0",
            "_model_module": "@jupyter-widgets/controls"
          }
        },
        "6ad9a4c38ff84ae4bc724a01decaaa55": {
          "model_module": "@jupyter-widgets/base",
          "model_name": "LayoutModel",
          "model_module_version": "1.2.0",
          "state": {
            "_view_name": "LayoutView",
            "grid_template_rows": null,
            "right": null,
            "justify_content": null,
            "_view_module": "@jupyter-widgets/base",
            "overflow": null,
            "_model_module_version": "1.2.0",
            "_view_count": null,
            "flex_flow": null,
            "width": null,
            "min_width": null,
            "border": null,
            "align_items": null,
            "bottom": null,
            "_model_module": "@jupyter-widgets/base",
            "top": null,
            "grid_column": null,
            "overflow_y": null,
            "overflow_x": null,
            "grid_auto_flow": null,
            "grid_area": null,
            "grid_template_columns": null,
            "flex": null,
            "_model_name": "LayoutModel",
            "justify_items": null,
            "grid_row": null,
            "max_height": null,
            "align_content": null,
            "visibility": null,
            "align_self": null,
            "height": null,
            "min_height": null,
            "padding": null,
            "grid_auto_rows": null,
            "grid_gap": null,
            "max_width": null,
            "order": null,
            "_view_module_version": "1.2.0",
            "grid_template_areas": null,
            "object_position": null,
            "object_fit": null,
            "grid_auto_columns": null,
            "margin": null,
            "display": null,
            "left": null
          }
        },
        "1f806cd981b840f1aaa327826d9f778a": {
          "model_module": "@jupyter-widgets/controls",
          "model_name": "ProgressStyleModel",
          "model_module_version": "1.5.0",
          "state": {
            "_view_name": "StyleView",
            "_model_name": "ProgressStyleModel",
            "description_width": "",
            "_view_module": "@jupyter-widgets/base",
            "_model_module_version": "1.5.0",
            "_view_count": null,
            "_view_module_version": "1.2.0",
            "bar_color": null,
            "_model_module": "@jupyter-widgets/controls"
          }
        },
        "ac84ee2646864245a3b3a4c2607a008e": {
          "model_module": "@jupyter-widgets/base",
          "model_name": "LayoutModel",
          "model_module_version": "1.2.0",
          "state": {
            "_view_name": "LayoutView",
            "grid_template_rows": null,
            "right": null,
            "justify_content": null,
            "_view_module": "@jupyter-widgets/base",
            "overflow": null,
            "_model_module_version": "1.2.0",
            "_view_count": null,
            "flex_flow": null,
            "width": null,
            "min_width": null,
            "border": null,
            "align_items": null,
            "bottom": null,
            "_model_module": "@jupyter-widgets/base",
            "top": null,
            "grid_column": null,
            "overflow_y": null,
            "overflow_x": null,
            "grid_auto_flow": null,
            "grid_area": null,
            "grid_template_columns": null,
            "flex": null,
            "_model_name": "LayoutModel",
            "justify_items": null,
            "grid_row": null,
            "max_height": null,
            "align_content": null,
            "visibility": null,
            "align_self": null,
            "height": null,
            "min_height": null,
            "padding": null,
            "grid_auto_rows": null,
            "grid_gap": null,
            "max_width": null,
            "order": null,
            "_view_module_version": "1.2.0",
            "grid_template_areas": null,
            "object_position": null,
            "object_fit": null,
            "grid_auto_columns": null,
            "margin": null,
            "display": null,
            "left": null
          }
        },
        "4250b21d682d41b1817e1d5c3f0ec23a": {
          "model_module": "@jupyter-widgets/controls",
          "model_name": "DescriptionStyleModel",
          "model_module_version": "1.5.0",
          "state": {
            "_view_name": "StyleView",
            "_model_name": "DescriptionStyleModel",
            "description_width": "",
            "_view_module": "@jupyter-widgets/base",
            "_model_module_version": "1.5.0",
            "_view_count": null,
            "_view_module_version": "1.2.0",
            "_model_module": "@jupyter-widgets/controls"
          }
        },
        "67738ec189874cb581e4d8c43ec1a808": {
          "model_module": "@jupyter-widgets/base",
          "model_name": "LayoutModel",
          "model_module_version": "1.2.0",
          "state": {
            "_view_name": "LayoutView",
            "grid_template_rows": null,
            "right": null,
            "justify_content": null,
            "_view_module": "@jupyter-widgets/base",
            "overflow": null,
            "_model_module_version": "1.2.0",
            "_view_count": null,
            "flex_flow": null,
            "width": null,
            "min_width": null,
            "border": null,
            "align_items": null,
            "bottom": null,
            "_model_module": "@jupyter-widgets/base",
            "top": null,
            "grid_column": null,
            "overflow_y": null,
            "overflow_x": null,
            "grid_auto_flow": null,
            "grid_area": null,
            "grid_template_columns": null,
            "flex": null,
            "_model_name": "LayoutModel",
            "justify_items": null,
            "grid_row": null,
            "max_height": null,
            "align_content": null,
            "visibility": null,
            "align_self": null,
            "height": null,
            "min_height": null,
            "padding": null,
            "grid_auto_rows": null,
            "grid_gap": null,
            "max_width": null,
            "order": null,
            "_view_module_version": "1.2.0",
            "grid_template_areas": null,
            "object_position": null,
            "object_fit": null,
            "grid_auto_columns": null,
            "margin": null,
            "display": null,
            "left": null
          }
        }
      }
    }
  },
  "cells": [
    {
      "cell_type": "markdown",
      "metadata": {
        "id": "view-in-github",
        "colab_type": "text"
      },
      "source": [
        "<a href=\"https://colab.research.google.com/github/cheliu-computation/Data-Mining-CSE572/blob/main/%E2%80%9CLenet_ipynb%E2%80%9D%E7%9A%84%E5%89%AF%E6%9C%AC.ipynb\" target=\"_parent\"><img src=\"https://colab.research.google.com/assets/colab-badge.svg\" alt=\"Open In Colab\"/></a>"
      ]
    },
    {
      "cell_type": "code",
      "metadata": {
        "colab": {
          "base_uri": "https://localhost:8080/"
        },
        "id": "fugLda2n0Mnc",
        "outputId": "2464b349-d904-46b3-a33b-a7354b4a8c94"
      },
      "source": [
        "import os\n",
        "os.chdir('/content/drive/MyDrive/AFdetect')\n",
        "os.listdir()"
      ],
      "execution_count": null,
      "outputs": [
        {
          "output_type": "execute_result",
          "data": {
            "text/plain": [
              "['first_lead.csv', 'second_lead.csv', 'ECGDataDenoised', 'mnist_data']"
            ]
          },
          "metadata": {},
          "execution_count": 1
        }
      ]
    },
    {
      "cell_type": "code",
      "metadata": {
        "id": "z3rEFIfwB5so",
        "colab": {
          "base_uri": "https://localhost:8080/"
        },
        "outputId": "c822c306-6002-49e3-fb32-de83514fee5b"
      },
      "source": [
        "output_channels = 1\n",
        "t = torch.rand(1, 1,30)\n",
        "\n",
        "conv1 = torch.nn.Conv1d(1, 28, kernel_size=5, padding=1)\n",
        "conv_t = conv1(t).view(1,1,28,28)\n",
        "conv2 =torch.nn.Conv2d(1, 3, kernel_size=5)\n",
        "print(conv2(conv_t).shape)\n",
        "pool = torch.nn.MaxPool2d()"
      ],
      "execution_count": null,
      "outputs": [
        {
          "output_type": "stream",
          "name": "stdout",
          "text": [
            "torch.Size([1, 3, 24, 24])\n"
          ]
        }
      ]
    },
    {
      "cell_type": "code",
      "metadata": {
        "id": "3HkIdiduFGqw"
      },
      "source": [
        "import torch\n",
        "import torch.nn as nn\n",
        "import torch.nn.functional as F\n",
        "import torch.optim as optim\n",
        "import numpy as np\n",
        "from torch.utils.data import DataLoader\n",
        "from torchvision import datasets, transforms\n",
        "from tqdm.notebook import tqdm\n",
        "from matplotlib import pyplot as plt\n",
        "device = 'cuda' if torch.cuda.is_available() else 'cpu'\n",
        "import os\n"
      ],
      "execution_count": null,
      "outputs": []
    },
    {
      "cell_type": "code",
      "metadata": {
        "id": "aJLgygFStIab"
      },
      "source": [
        "///////////"
      ],
      "execution_count": null,
      "outputs": []
    },
    {
      "cell_type": "code",
      "metadata": {
        "colab": {
          "base_uri": "https://localhost:8080/"
        },
        "id": "kXjWcKIij2KC",
        "outputId": "a0ddd25f-96af-4621-ee1e-ecb8d87f04ef"
      },
      "source": [
        ""
      ],
      "execution_count": null,
      "outputs": [
        {
          "output_type": "stream",
          "name": "stdout",
          "text": [
            "xla:1\n"
          ]
        }
      ]
    },
    {
      "cell_type": "code",
      "metadata": {
        "id": "awj4_5U0jzcT"
      },
      "source": [
        "random_seed = 42\n",
        "learning_rate = 1e-3\n",
        "batch_size = 2**12\n",
        "epochs = 20\n",
        "\n",
        "img_size = 64\n",
        "n_classes = 10"
      ],
      "execution_count": null,
      "outputs": []
    },
    {
      "cell_type": "code",
      "metadata": {
        "id": "Lr6ij8gL6mVh"
      },
      "source": [
        "transforms = transforms.Compose([transforms.Resize((img_size, img_size)),\n",
        "                                 transforms.ToTensor()])"
      ],
      "execution_count": null,
      "outputs": []
    },
    {
      "cell_type": "code",
      "metadata": {
        "id": "OMUJ8PI0K6uU"
      },
      "source": [
        "# define transforms\n",
        "# transforms.ToTensor() automatically scales the images to [0,1] range\n",
        "\n",
        "\n",
        "# download and create datasets\n",
        "train_dataset = datasets.MNIST(root='mnist_data', \n",
        "                               train=True, \n",
        "                               transform=transforms,\n",
        "                               download=True)\n",
        "\n",
        "valid_dataset = datasets.MNIST(root='mnist_data', \n",
        "                               train=False, \n",
        "                               transform=transforms)\n",
        "\n",
        "# define the data loaders\n",
        "train_loader = DataLoader(dataset=train_dataset, \n",
        "                          batch_size=batch_size,\n",
        "                          pin_memory = True, \n",
        "                          shuffle=True)\n",
        "\n",
        "valid_loader = DataLoader(dataset=valid_dataset, \n",
        "                          batch_size=batch_size,\n",
        "                          pin_memory = True, \n",
        "                          shuffle=False)"
      ],
      "execution_count": null,
      "outputs": []
    },
    {
      "cell_type": "code",
      "metadata": {
        "colab": {
          "base_uri": "https://localhost:8080/"
        },
        "id": "d9WR1igkT9gc",
        "outputId": "1254c9af-8a67-48ef-9d54-4f1f38c4d2c2"
      },
      "source": [
        "print(train_loader.dataset)"
      ],
      "execution_count": null,
      "outputs": [
        {
          "output_type": "stream",
          "name": "stdout",
          "text": [
            "Dataset MNIST\n",
            "    Number of datapoints: 60000\n",
            "    Root location: mnist_data\n",
            "    Split: Train\n",
            "    StandardTransform\n",
            "Transform: Compose(\n",
            "               Resize(size=(64, 64), interpolation=bilinear, max_size=None, antialias=None)\n",
            "               ToTensor()\n",
            "           )\n"
          ]
        }
      ]
    },
    {
      "cell_type": "markdown",
      "metadata": {
        "id": "45CPdPjdCupj"
      },
      "source": [
        "# 新段落"
      ]
    },
    {
      "cell_type": "code",
      "metadata": {
        "id": "8a7RB-F6EI6K"
      },
      "source": [
        "def train(train_loader, model, criterion, optimizer, device):\n",
        "  '''\n",
        "  training step\n",
        "  '''\n",
        "  # define train pattern, the parameter would change\n",
        "  model.train()\n",
        "  total_loss = 0\n",
        "  for X, y_truth in train_loader:\n",
        "    optimizer.zero_grad()\n",
        "    X = X.to(device)\n",
        "    y_truth = y_truth.to(device)\n",
        "    \n",
        "    # forward \n",
        "    y_pred,_ = model(X)\n",
        "    loss = criterion(y_pred, y_truth)\n",
        "\n",
        "    total_loss += loss.item()*X.size(0)\n",
        "\n",
        "    # backward\n",
        "    loss.backward()\n",
        "    optimizer.step()\n",
        "  epoch_loss = total_loss / len(train_loader.dataset)\n",
        "  return model, optimizer, epoch_loss\n"
      ],
      "execution_count": null,
      "outputs": []
    },
    {
      "cell_type": "code",
      "metadata": {
        "id": "paFxL1zkGC9j"
      },
      "source": [
        "def validate(valid_loader, model, criterion, device):\n",
        "  '''\n",
        "  validation on each training epoch\n",
        "  '''\n",
        "  model.eval() # evaluation mode, parameter wont change\n",
        "  total_loss = 0\n",
        "\n",
        "  for X, y_truth in valid_loader:\n",
        "    X = X.to(device)\n",
        "    y_truth = y_truth.to(device)\n",
        "\n",
        "    # forward \n",
        "    y_pred, _ = model(X)\n",
        "    loss = criterion(y_pred, y_truth)\n",
        "    total_loss += loss.item()*X.size(0)\n",
        "  \n",
        "  epoch_loss = total_loss / len(valid_loader.dataset)\n",
        "  return model, epoch_loss"
      ],
      "execution_count": null,
      "outputs": []
    },
    {
      "cell_type": "code",
      "metadata": {
        "id": "rweE194-JiQz"
      },
      "source": [
        "def get_accuracy(model, data_loader, device):\n",
        "    '''\n",
        "    Function for computing the accuracy of the predictions over the entire data_loader\n",
        "    '''\n",
        "    \n",
        "    correct_pred = 0 \n",
        "    n = 0\n",
        "    \n",
        "    with torch.no_grad():\n",
        "        model.eval()\n",
        "        for X, y_true in data_loader:\n",
        "\n",
        "            X = X.to(device)\n",
        "            y_true = y_true.to(device)\n",
        "\n",
        "            _, y_prob = model(X)\n",
        "            _, predicted_labels = torch.max(y_prob, 1)\n",
        "\n",
        "            n += y_true.size(0)\n",
        "            correct_pred += (predicted_labels == y_true).sum()\n",
        "\n",
        "    return correct_pred.float() / n\n",
        "\n",
        "def plot_losses(train_losses, valid_losses):\n",
        "    '''\n",
        "    Function for plotting training and validation losses\n",
        "    '''\n",
        "    \n",
        "    # temporarily change the style of the plots to seaborn \n",
        "    plt.style.use('seaborn')\n",
        "\n",
        "    train_losses = np.array(train_losses) \n",
        "    valid_losses = np.array(valid_losses)\n",
        "\n",
        "    fig, ax = plt.subplots(figsize = (8, 4.5))\n",
        "\n",
        "    ax.plot(train_losses, color='blue', label='Training loss') \n",
        "    ax.plot(valid_losses, color='red', label='Validation loss')\n",
        "    ax.set(title=\"Loss over epochs\", \n",
        "            xlabel='Epoch',\n",
        "            ylabel='Loss') \n",
        "    ax.legend()\n",
        "    fig.show()\n",
        "    \n",
        "    # change the plot style to default\n",
        "    plt.style.use('default')"
      ],
      "execution_count": null,
      "outputs": []
    },
    {
      "cell_type": "code",
      "metadata": {
        "id": "TSaWb3NaGsxT"
      },
      "source": [
        "def training_loop(model, criterion, optimizer, train_loader, valid_loader, epoch, device, print_every=2):\n",
        "  '''\n",
        "  training loop\n",
        "  '''\n",
        "\n",
        "  best_loss = 1e10\n",
        "  train_losses, valid_losses = [],[]\n",
        "\n",
        "  # model training\n",
        "  for epoch in tqdm(range(0,epochs)):\n",
        "\n",
        "    # training\n",
        "    model, optimizer, train_loss = train(train_loader, model, criterion, optimizer, device)\n",
        "    train_losses.append(train_loss)\n",
        "\n",
        "    # validation\n",
        "    with torch.no_grad(): # execute when gradient zero\n",
        "      model, valid_loss = validate(valid_loader, model, criterion, device)\n",
        "      valid_losses.append(valid_loss)\n",
        "    \n",
        "    if epoch%print_every == 0:\n",
        "      train_acc = get_accuracy(model, train_loader, device= device)\n",
        "      valid_acc = get_accuracy(model, valid_loader, device= device)\n",
        "\n",
        "      print(f'Epoch:{epoch}\\t'\n",
        "         f'Trian loss{train_loss:4f}\\t'\n",
        "         f'Valid loss{valid_loss:4f}\\t'\n",
        "         f'Train acc{100*train_acc:2f}\\t'\n",
        "         f'Valid acc{100*valid_acc:2f}\\t')\n",
        "      t = torch.cuda.get_device_properties(0).total_memory\n",
        "      r = torch.cuda.memory_reserved(0)/1024**3\n",
        "      a = torch.cuda.memory_allocated(0)/1024**3\n",
        "      print(r-a, t)\n",
        "  plot_losses(train_losses, valid_losses)\n",
        "  return model, optimizer, (train_losses, valid_losses)\n"
      ],
      "execution_count": null,
      "outputs": []
    },
    {
      "cell_type": "code",
      "metadata": {
        "id": "vhtASXkjKevE"
      },
      "source": [
        "class lenet5(nn.Module):\n",
        "  def __init__(self, n_classes):\n",
        "    super(lenet5, self).__init__()\n",
        "\n",
        "    self.feature_extract = nn.Sequential(\n",
        "    nn.Conv2d(in_channels=1, out_channels=6, kernel_size=5, stride=1),\n",
        "    nn.Tanh(),\n",
        "    nn.AvgPool2d(kernel_size=2),\n",
        "    nn.Conv2d(in_channels=6, out_channels=16, kernel_size=5, stride=1, padding=2),\n",
        "    nn.Tanh(),\n",
        "    nn.AvgPool2d(kernel_size=2),\n",
        "    nn.Conv2d(in_channels=16, out_channels=120, kernel_size=5, stride=1),\n",
        "    nn.Tanh(),\n",
        "    nn.AvgPool2d(kernel_size=11)\n",
        "    )\n",
        "\n",
        "    self.classifer = nn.Sequential(\n",
        "        nn.Linear(in_features = 120, out_features =84),\n",
        "        nn.Tanh(),\n",
        "        nn.Linear(in_features=84, out_features=n_classes),\n",
        "    )\n",
        "  \n",
        "  def forward(self, x):\n",
        "    x = self.feature_extract(x)\n",
        "    x = torch.flatten(x,1)\n",
        "    logits = self.classifer(x)\n",
        "    probs = F.softmax(logits, dim=1)\n",
        "    \n",
        "    return logits, probs"
      ],
      "execution_count": null,
      "outputs": []
    },
    {
      "cell_type": "code",
      "metadata": {
        "id": "eRHrs56VTZqD"
      },
      "source": [
        "torch.manual_seed(random_seed)\n",
        "\n",
        "model = lenet5(n_classes).to(device)\n",
        "optimizer = torch.optim.Adam(model.parameters(), lr=learning_rate)\n",
        "criterion = nn.CrossEntropyLoss()\n",
        "\n"
      ],
      "execution_count": null,
      "outputs": []
    },
    {
      "cell_type": "markdown",
      "metadata": {
        "id": "RGbshTcKCzgq"
      },
      "source": [
        "# 新段落"
      ]
    },
    {
      "cell_type": "code",
      "metadata": {
        "colab": {
          "base_uri": "https://localhost:8080/",
          "height": 49,
          "referenced_widgets": [
            "bccff04cbb114fb9b4b843ee1b164273",
            "32492832ccd049778d27209976216a78",
            "c4d0ad14278f43259a6acb46ac27c09e",
            "6fe4cba4fd394d69b5eb059ef46bab08",
            "91dc14749ea04c26b52ff287236c8341",
            "3dbeecf1c2444f2bbf948921ffbc10e6",
            "6ad9a4c38ff84ae4bc724a01decaaa55",
            "1f806cd981b840f1aaa327826d9f778a",
            "ac84ee2646864245a3b3a4c2607a008e",
            "4250b21d682d41b1817e1d5c3f0ec23a",
            "67738ec189874cb581e4d8c43ec1a808"
          ]
        },
        "id": "ANx1MQsPTgfM",
        "outputId": "cd644813-a5ee-4983-f128-bd5655b0f804"
      },
      "source": [
        "model, optimizer, _ = training_loop(model, criterion, optimizer, train_loader, valid_loader, epochs, device)"
      ],
      "execution_count": null,
      "outputs": [
        {
          "output_type": "display_data",
          "data": {
            "application/vnd.jupyter.widget-view+json": {
              "model_id": "bccff04cbb114fb9b4b843ee1b164273",
              "version_minor": 0,
              "version_major": 2
            },
            "text/plain": [
              "  0%|          | 0/20 [00:00<?, ?it/s]"
            ]
          },
          "metadata": {}
        }
      ]
    },
    {
      "cell_type": "code",
      "metadata": {
        "colab": {
          "base_uri": "https://localhost:8080/",
          "height": 298
        },
        "id": "pyYmRdG9b1su",
        "outputId": "52c84309-9652-40fe-f699-7afe9946bd03"
      },
      "source": [
        "model.summary()"
      ],
      "execution_count": null,
      "outputs": [
        {
          "output_type": "error",
          "ename": "AttributeError",
          "evalue": "ignored",
          "traceback": [
            "\u001b[0;31m---------------------------------------------------------------------------\u001b[0m",
            "\u001b[0;31mAttributeError\u001b[0m                            Traceback (most recent call last)",
            "\u001b[0;32m<ipython-input-17-5f15418b3570>\u001b[0m in \u001b[0;36m<module>\u001b[0;34m()\u001b[0m\n\u001b[0;32m----> 1\u001b[0;31m \u001b[0mmodel\u001b[0m\u001b[0;34m.\u001b[0m\u001b[0msummary\u001b[0m\u001b[0;34m(\u001b[0m\u001b[0;34m)\u001b[0m\u001b[0;34m\u001b[0m\u001b[0;34m\u001b[0m\u001b[0m\n\u001b[0m",
            "\u001b[0;32m/usr/local/lib/python3.7/dist-packages/torch/nn/modules/module.py\u001b[0m in \u001b[0;36m__getattr__\u001b[0;34m(self, name)\u001b[0m\n\u001b[1;32m   1129\u001b[0m                 \u001b[0;32mreturn\u001b[0m \u001b[0mmodules\u001b[0m\u001b[0;34m[\u001b[0m\u001b[0mname\u001b[0m\u001b[0;34m]\u001b[0m\u001b[0;34m\u001b[0m\u001b[0;34m\u001b[0m\u001b[0m\n\u001b[1;32m   1130\u001b[0m         raise AttributeError(\"'{}' object has no attribute '{}'\".format(\n\u001b[0;32m-> 1131\u001b[0;31m             type(self).__name__, name))\n\u001b[0m\u001b[1;32m   1132\u001b[0m \u001b[0;34m\u001b[0m\u001b[0m\n\u001b[1;32m   1133\u001b[0m     \u001b[0;32mdef\u001b[0m \u001b[0m__setattr__\u001b[0m\u001b[0;34m(\u001b[0m\u001b[0mself\u001b[0m\u001b[0;34m,\u001b[0m \u001b[0mname\u001b[0m\u001b[0;34m:\u001b[0m \u001b[0mstr\u001b[0m\u001b[0;34m,\u001b[0m \u001b[0mvalue\u001b[0m\u001b[0;34m:\u001b[0m \u001b[0mUnion\u001b[0m\u001b[0;34m[\u001b[0m\u001b[0mTensor\u001b[0m\u001b[0;34m,\u001b[0m \u001b[0;34m'Module'\u001b[0m\u001b[0;34m]\u001b[0m\u001b[0;34m)\u001b[0m \u001b[0;34m->\u001b[0m \u001b[0;32mNone\u001b[0m\u001b[0;34m:\u001b[0m\u001b[0;34m\u001b[0m\u001b[0;34m\u001b[0m\u001b[0m\n",
            "\u001b[0;31mAttributeError\u001b[0m: 'lenet5' object has no attribute 'summary'"
          ]
        }
      ]
    }
  ]
}